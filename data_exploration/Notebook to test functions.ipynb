{
 "cells": [
  {
   "cell_type": "markdown",
   "id": "9b6df8d3",
   "metadata": {},
   "source": [
    "### Función para obtener niveles máximos de contaminantes por estación: pollutant_by_stations"
   ]
  },
  {
   "cell_type": "code",
   "execution_count": 1,
   "id": "d548ead1",
   "metadata": {},
   "outputs": [
    {
     "name": "stdout",
     "output_type": "stream",
     "text": [
      "operativo\n",
      "                     XAL  MER   UAX\n",
      "2023-12-01 00:00:00  0.0  1.0  14.0\n",
      "2023-12-01 01:00:00  4.0  0.0  10.0\n",
      "2023-12-01 02:00:00  7.0  0.0   9.0\n",
      "2023-12-01 03:00:00  1.0  0.0   6.0\n",
      "2023-12-01 04:00:00  0.0  0.0   6.0\n",
      "...                  ...  ...   ...\n",
      "2023-12-13 20:00:00  6.0  0.0   NaN\n",
      "2023-12-13 21:00:00  2.0  0.0   NaN\n",
      "2023-12-13 22:00:00  0.0  0.0   NaN\n",
      "2023-12-13 23:00:00  0.0  0.0   NaN\n",
      "2023-12-14 00:00:00  0.0  0.0   NaN\n",
      "\n",
      "[313 rows x 3 columns]\n"
     ]
    },
    {
     "name": "stderr",
     "output_type": "stream",
     "text": [
      "/OZONO/HOME/pedro/git2/otro14/air_pollution_forecast/data_exploration/data_generator.py:62: FutureWarning: The default dtype for empty Series will be 'object' instead of 'float64' in a future version. Specify a dtype explicitly to silence this warning.\n",
      "  data_dict = defaultdict(lambda: pd.Series(index=pd.date_range(start=start_date, end=end_date, freq='H')))\n"
     ]
    }
   ],
   "source": [
    "from data_generator import pollutant_by_stations\n",
    "#Example of usage\n",
    "start_date = \"2023-12-01 00:00\"\n",
    "end_date = \"2023-12-14 00:00\"\n",
    "stations = ['UAX', 'MER', 'XAL']\n",
    "pollutant = 'cont_otres'\n",
    "\n",
    "data = pollutant_by_stations(start_date, end_date, stations, pollutant)\n",
    "print(data)\n"
   ]
  },
  {
   "cell_type": "markdown",
   "id": "760c9302",
   "metadata": {},
   "source": [
    "### Función para obtener niveles máximos diarios por estación: daily_max_pollutant_by_stations"
   ]
  },
  {
   "cell_type": "code",
   "execution_count": 1,
   "id": "46cdb132",
   "metadata": {},
   "outputs": [
    {
     "name": "stdout",
     "output_type": "stream",
     "text": [
      "operativo\n"
     ]
    },
    {
     "name": "stderr",
     "output_type": "stream",
     "text": [
      "/OZONO/HOME/pedro/git2/otro14/air_pollution_forecast/data_exploration/data_generator.py:62: FutureWarning: The default dtype for empty Series will be 'object' instead of 'float64' in a future version. Specify a dtype explicitly to silence this warning.\n",
      "  data_dict = defaultdict(lambda: pd.Series(index=pd.date_range(start=start_date, end=end_date, freq='H')))\n"
     ]
    },
    {
     "name": "stdout",
     "output_type": "stream",
     "text": [
      "                   date station  value\n",
      "0   2022-12-01 16:00:00     UAX   76.0\n",
      "1   2022-12-02 15:00:00     UAX   85.0\n",
      "2   2022-12-03 14:00:00     UAX   66.0\n",
      "3   2022-12-04 16:00:00     UAX   71.0\n",
      "4   2022-12-05 17:00:00     UAX   72.0\n",
      "..                  ...     ...    ...\n",
      "804 2023-12-10 14:00:00     XAL   38.0\n",
      "805 2023-12-11 12:00:00     XAL   27.0\n",
      "806 2023-12-12 14:00:00     XAL   52.0\n",
      "807 2023-12-13 12:00:00     XAL   18.0\n",
      "808 2023-12-14 00:00:00     XAL    0.0\n",
      "\n",
      "[809 rows x 3 columns]\n"
     ]
    }
   ],
   "source": [
    "from data_generator import daily_max_pollutant_by_stations\n",
    "#Example of usage\n",
    "\n",
    "start_date = \"2022-12-01 00:00\"\n",
    "end_date = \"2023-12-14 00:00\"\n",
    "stations = ['UAX', 'MER', 'XAL']\n",
    "pollutant = 'cont_otres'\n",
    "\n",
    "data = daily_max_pollutant_by_stations(start_date, end_date, stations, pollutant)\n",
    "print(data)\n"
   ]
  },
  {
   "cell_type": "markdown",
   "id": "01683cb6",
   "metadata": {},
   "source": [
    "### Funcionalidad para obtener fechas,valores y estaciones que sobrepasan un umbral: dates_above_threshold"
   ]
  },
  {
   "cell_type": "code",
   "execution_count": 3,
   "id": "936bbc03",
   "metadata": {},
   "outputs": [
    {
     "name": "stdout",
     "output_type": "stream",
     "text": [
      "operativo\n"
     ]
    },
    {
     "name": "stderr",
     "output_type": "stream",
     "text": [
      "/OZONO/HOME/pedro/git2/otro14/air_pollution_forecast/data_exploration/data_generator.py:62: FutureWarning: The default dtype for empty Series will be 'object' instead of 'float64' in a future version. Specify a dtype explicitly to silence this warning.\n",
      "  data_dict = defaultdict(lambda: pd.Series(index=pd.date_range(start=start_date, end=end_date, freq='H')))\n"
     ]
    },
    {
     "name": "stdout",
     "output_type": "stream",
     "text": [
      "                       MER    XAL    UAX\n",
      "2010-03-05 15:00:00  154.0    NaN    NaN\n",
      "2010-03-05 16:00:00  151.0    NaN    NaN\n",
      "2010-04-06 14:00:00  156.0    NaN    NaN\n",
      "2010-05-03 15:00:00  149.0  160.0    NaN\n",
      "2010-05-03 16:00:00  166.0    NaN    NaN\n",
      "...                    ...    ...    ...\n",
      "2022-05-02 15:00:00  149.0    NaN  154.0\n",
      "2022-05-02 16:00:00  148.0    NaN    NaN\n",
      "2022-05-04 14:00:00    NaN    NaN  145.0\n",
      "2022-05-05 14:00:00    NaN    NaN  146.0\n",
      "2023-02-23 15:00:00    NaN    NaN  145.0\n",
      "\n",
      "[108 rows x 3 columns]\n"
     ]
    }
   ],
   "source": [
    "from data_generator import pollutant_by_stations, dates_above_threshold\n",
    "\n",
    "#Example of usage\n",
    "start_date = \"2010-01-01 00:00\"\n",
    "end_date = \"2024-01-01 00:00\"\n",
    "stations = ['UAX', 'MER', 'XAL']\n",
    "pollutant = 'cont_otres'\n",
    "umbral_contaminante = 145.0\n",
    "df = pollutant_by_stations(start_date, end_date, stations, pollutant)\n",
    "df_above_th = dates_above_threshold(df, umbral_contaminante)\n",
    "print(df_above_th)"
   ]
  },
  {
   "cell_type": "markdown",
   "id": "3ad1a7ea",
   "metadata": {},
   "source": [
    "### Funcionalidad para obtener valores promedio (X horas de todos los puntos del grid) de variables del modelo WRF: average_meteo"
   ]
  },
  {
   "cell_type": "code",
   "execution_count": 3,
   "id": "7da6da78",
   "metadata": {},
   "outputs": [
    {
     "name": "stdout",
     "output_type": "stream",
     "text": [
      "Working with wrf file: /ServerData/WRF_2017_Kraken/2024/05_mayo/wrfout_d01_2024-05-09_00.nc\n",
      "Current time from wrf is 2024-05-09 19:00:00 (Original start time: 2024-05-09 13:00:00 )\n",
      "average_value: 299.86096382141113\n",
      "26.860963821411133\n"
     ]
    }
   ],
   "source": [
    "#Example of usage\n",
    "from data_generator import average_meteo\n",
    "\n",
    "start_date = \"2024-05-09 13:00\"\n",
    "hours = 1\n",
    "field = 'T2'  \n",
    "average_values = average_meteo(start_date, hours, field)\n",
    "print(average_values-273) # substracting 273  in this case for an approx. in deg C.\n"
   ]
  },
  {
   "cell_type": "code",
   "execution_count": 7,
   "id": "0488ae15",
   "metadata": {
    "scrolled": false
   },
   "outputs": [
    {
     "name": "stdout",
     "output_type": "stream",
     "text": [
      "Working with wrf file: /ServerData/WRF_2017_Kraken/2024/01_enero/wrfout_d01_2024-01-01_00.nc\n",
      "Current time from wrf is 2024-01-01 06:00:00 (Original start time: 2024-01-01 00:00:00 )\n",
      "average_value: 281.03889083862305\n",
      "Working with wrf file: /ServerData/WRF_2017_Kraken/2024/01_enero/wrfout_d01_2024-01-01_00.nc\n",
      "Current time from wrf is 2024-01-01 09:00:00 (Original start time: 2024-01-01 03:00:00 )\n",
      "average_value: 279.8994770050049\n",
      "Working with wrf file: /ServerData/WRF_2017_Kraken/2024/01_enero/wrfout_d01_2024-01-01_00.nc\n",
      "Current time from wrf is 2024-01-01 12:00:00 (Original start time: 2024-01-01 06:00:00 )\n",
      "average_value: 278.91314697265625\n",
      "Working with wrf file: /ServerData/WRF_2017_Kraken/2024/01_enero/wrfout_d01_2024-01-01_00.nc\n",
      "Current time from wrf is 2024-01-01 15:00:00 (Original start time: 2024-01-01 09:00:00 )\n",
      "average_value: 283.85781478881836\n",
      "Working with wrf file: /ServerData/WRF_2017_Kraken/2024/01_enero/wrfout_d01_2024-01-01_00.nc\n",
      "Current time from wrf is 2024-01-01 18:00:00 (Original start time: 2024-01-01 12:00:00 )\n",
      "average_value: 287.83832931518555\n",
      "Working with wrf file: /ServerData/WRF_2017_Kraken/2024/01_enero/wrfout_d01_2024-01-01_00.nc\n",
      "Current time from wrf is 2024-01-01 21:00:00 (Original start time: 2024-01-01 15:00:00 )\n",
      "average_value: 289.9513969421387\n",
      "Working with wrf file: /ServerData/WRF_2017_Kraken/2024/01_enero/wrfout_d01_2024-01-01_00.nc\n",
      "Current time from wrf is 2024-01-02 00:00:00 (Original start time: 2024-01-01 18:00:00 )\n",
      "average_value: 287.77039337158203\n",
      "Working with wrf file: /ServerData/WRF_2017_Kraken/2024/01_enero/wrfout_d01_2024-01-01_00.nc\n",
      "Current time from wrf is 2024-01-02 03:00:00 (Original start time: 2024-01-01 21:00:00 )\n",
      "average_value: 283.8512077331543\n",
      "Working with wrf file: /ServerData/WRF_2017_Kraken/2024/01_enero/wrfout_d01_2024-01-02_00.nc\n",
      "Current time from wrf is 2024-01-02 06:00:00 (Original start time: 2024-01-02 00:00:00 )\n",
      "average_value: 281.6625633239746\n",
      "Working with wrf file: /ServerData/WRF_2017_Kraken/2024/01_enero/wrfout_d01_2024-01-02_00.nc\n",
      "Current time from wrf is 2024-01-02 09:00:00 (Original start time: 2024-01-02 03:00:00 )\n",
      "average_value: 280.12667083740234\n",
      "Working with wrf file: /ServerData/WRF_2017_Kraken/2024/01_enero/wrfout_d01_2024-01-02_00.nc\n",
      "Current time from wrf is 2024-01-02 12:00:00 (Original start time: 2024-01-02 06:00:00 )\n",
      "average_value: 279.05491828918457\n",
      "Working with wrf file: /ServerData/WRF_2017_Kraken/2024/01_enero/wrfout_d01_2024-01-02_00.nc\n",
      "Current time from wrf is 2024-01-02 15:00:00 (Original start time: 2024-01-02 09:00:00 )\n",
      "average_value: 282.7341766357422\n",
      "Working with wrf file: /ServerData/WRF_2017_Kraken/2024/01_enero/wrfout_d01_2024-01-02_00.nc\n",
      "Current time from wrf is 2024-01-02 18:00:00 (Original start time: 2024-01-02 12:00:00 )\n",
      "average_value: 287.80068588256836\n",
      "Working with wrf file: /ServerData/WRF_2017_Kraken/2024/01_enero/wrfout_d01_2024-01-02_00.nc\n",
      "Current time from wrf is 2024-01-02 21:00:00 (Original start time: 2024-01-02 15:00:00 )\n",
      "average_value: 289.3354778289795\n",
      "Working with wrf file: /ServerData/WRF_2017_Kraken/2024/01_enero/wrfout_d01_2024-01-02_00.nc\n",
      "Current time from wrf is 2024-01-03 00:00:00 (Original start time: 2024-01-02 18:00:00 )\n",
      "average_value: 285.9070873260498\n",
      "Working with wrf file: /ServerData/WRF_2017_Kraken/2024/01_enero/wrfout_d01_2024-01-02_00.nc\n",
      "Current time from wrf is 2024-01-03 03:00:00 (Original start time: 2024-01-02 21:00:00 )\n",
      "average_value: 283.94064140319824\n",
      "Working with wrf file: /ServerData/WRF_2017_Kraken/2024/01_enero/wrfout_d01_2024-01-03_00.nc\n",
      "Current time from wrf is 2024-01-03 06:00:00 (Original start time: 2024-01-03 00:00:00 )\n",
      "average_value: 282.48973846435547\n",
      "Working with wrf file: /ServerData/WRF_2017_Kraken/2024/01_enero/wrfout_d01_2024-01-03_00.nc\n",
      "Current time from wrf is 2024-01-03 09:00:00 (Original start time: 2024-01-03 03:00:00 )\n",
      "average_value: 282.147180557251\n",
      "Working with wrf file: /ServerData/WRF_2017_Kraken/2024/01_enero/wrfout_d01_2024-01-03_00.nc\n",
      "Current time from wrf is 2024-01-03 12:00:00 (Original start time: 2024-01-03 06:00:00 )\n",
      "average_value: 281.2462501525879\n",
      "Working with wrf file: /ServerData/WRF_2017_Kraken/2024/01_enero/wrfout_d01_2024-01-03_00.nc\n",
      "Current time from wrf is 2024-01-03 15:00:00 (Original start time: 2024-01-03 09:00:00 )\n",
      "average_value: 285.197811126709\n",
      "Working with wrf file: /ServerData/WRF_2017_Kraken/2024/01_enero/wrfout_d01_2024-01-03_00.nc\n",
      "Current time from wrf is 2024-01-03 18:00:00 (Original start time: 2024-01-03 12:00:00 )\n",
      "average_value: 289.25950050354004\n",
      "Working with wrf file: /ServerData/WRF_2017_Kraken/2024/01_enero/wrfout_d01_2024-01-03_00.nc\n",
      "Current time from wrf is 2024-01-03 21:00:00 (Original start time: 2024-01-03 15:00:00 )\n",
      "average_value: 290.7484893798828\n",
      "Working with wrf file: /ServerData/WRF_2017_Kraken/2024/01_enero/wrfout_d01_2024-01-03_00.nc\n",
      "Current time from wrf is 2024-01-04 00:00:00 (Original start time: 2024-01-03 18:00:00 )\n",
      "average_value: 287.84429359436035\n",
      "Working with wrf file: /ServerData/WRF_2017_Kraken/2024/01_enero/wrfout_d01_2024-01-03_00.nc\n",
      "Current time from wrf is 2024-01-04 03:00:00 (Original start time: 2024-01-03 21:00:00 )\n",
      "average_value: 284.1019096374512\n",
      "Working with wrf file: /ServerData/WRF_2017_Kraken/2024/01_enero/wrfout_d01_2024-01-04_00.nc\n",
      "Current time from wrf is 2024-01-04 06:00:00 (Original start time: 2024-01-04 00:00:00 )\n",
      "average_value: 281.9313488006592\n",
      "Working with wrf file: /ServerData/WRF_2017_Kraken/2024/01_enero/wrfout_d01_2024-01-04_00.nc\n",
      "Current time from wrf is 2024-01-04 09:00:00 (Original start time: 2024-01-04 03:00:00 )\n",
      "average_value: 280.26397705078125\n",
      "Working with wrf file: /ServerData/WRF_2017_Kraken/2024/01_enero/wrfout_d01_2024-01-04_00.nc\n",
      "Current time from wrf is 2024-01-04 12:00:00 (Original start time: 2024-01-04 06:00:00 )\n",
      "average_value: 279.50601387023926\n",
      "Working with wrf file: /ServerData/WRF_2017_Kraken/2024/01_enero/wrfout_d01_2024-01-04_00.nc\n",
      "Current time from wrf is 2024-01-04 15:00:00 (Original start time: 2024-01-04 09:00:00 )\n",
      "average_value: 284.2997989654541\n",
      "Working with wrf file: /ServerData/WRF_2017_Kraken/2024/01_enero/wrfout_d01_2024-01-04_00.nc\n",
      "Current time from wrf is 2024-01-04 18:00:00 (Original start time: 2024-01-04 12:00:00 )\n",
      "average_value: 288.9782772064209\n",
      "Working with wrf file: /ServerData/WRF_2017_Kraken/2024/01_enero/wrfout_d01_2024-01-04_00.nc\n",
      "Current time from wrf is 2024-01-04 21:00:00 (Original start time: 2024-01-04 15:00:00 )\n",
      "average_value: 290.2609329223633\n",
      "Working with wrf file: /ServerData/WRF_2017_Kraken/2024/01_enero/wrfout_d01_2024-01-04_00.nc\n",
      "Current time from wrf is 2024-01-05 00:00:00 (Original start time: 2024-01-04 18:00:00 )\n",
      "average_value: 286.8022651672363\n",
      "Working with wrf file: /ServerData/WRF_2017_Kraken/2024/01_enero/wrfout_d01_2024-01-04_00.nc\n",
      "Current time from wrf is 2024-01-05 03:00:00 (Original start time: 2024-01-04 21:00:00 )\n",
      "average_value: 283.6085605621338\n",
      "Working with wrf file: /ServerData/WRF_2017_Kraken/2024/01_enero/wrfout_d01_2024-01-05_00.nc\n",
      "Current time from wrf is 2024-01-05 06:00:00 (Original start time: 2024-01-05 00:00:00 )\n",
      "average_value: 282.4938201904297\n",
      "Working with wrf file: /ServerData/WRF_2017_Kraken/2024/01_enero/wrfout_d01_2024-01-05_00.nc\n",
      "Current time from wrf is 2024-01-05 09:00:00 (Original start time: 2024-01-05 03:00:00 )\n",
      "average_value: 281.4254570007324\n",
      "Working with wrf file: /ServerData/WRF_2017_Kraken/2024/01_enero/wrfout_d01_2024-01-05_00.nc\n",
      "Current time from wrf is 2024-01-05 12:00:00 (Original start time: 2024-01-05 06:00:00 )\n",
      "average_value: 280.06313705444336\n",
      "Working with wrf file: /ServerData/WRF_2017_Kraken/2024/01_enero/wrfout_d01_2024-01-05_00.nc\n",
      "Current time from wrf is 2024-01-05 15:00:00 (Original start time: 2024-01-05 09:00:00 )\n",
      "average_value: 284.6072063446045\n",
      "Working with wrf file: /ServerData/WRF_2017_Kraken/2024/01_enero/wrfout_d01_2024-01-05_00.nc\n",
      "Current time from wrf is 2024-01-05 18:00:00 (Original start time: 2024-01-05 12:00:00 )\n",
      "average_value: 288.4244022369385\n",
      "Working with wrf file: /ServerData/WRF_2017_Kraken/2024/01_enero/wrfout_d01_2024-01-05_00.nc\n",
      "Current time from wrf is 2024-01-05 21:00:00 (Original start time: 2024-01-05 15:00:00 )\n",
      "average_value: 289.4291305541992\n",
      "Working with wrf file: /ServerData/WRF_2017_Kraken/2024/01_enero/wrfout_d01_2024-01-05_00.nc\n",
      "Current time from wrf is 2024-01-06 00:00:00 (Original start time: 2024-01-05 18:00:00 )\n",
      "average_value: 286.14683532714844\n",
      "Working with wrf file: /ServerData/WRF_2017_Kraken/2024/01_enero/wrfout_d01_2024-01-05_00.nc\n",
      "Current time from wrf is 2024-01-06 03:00:00 (Original start time: 2024-01-05 21:00:00 )\n",
      "average_value: 283.08707427978516\n"
     ]
    },
    {
     "data": {
      "image/png": "[encoded data removed]",
      "text/plain": [
       "<Figure size 720x360 with 1 Axes>"
      ]
     },
     "metadata": {
      "needs_background": "light"
     },
     "output_type": "display_data"
    }
   ],
   "source": [
    "# %% Usando funcion average_meteo para plotear 5 días\n",
    "\n",
    "import matplotlib.pyplot as plt\n",
    "from datetime import datetime, timedelta\n",
    "\n",
    "\n",
    "start_date = datetime.strptime(\"2024-01-01 00:00\", \"%Y-%m-%d %H:%M\")\n",
    "field = 'T2'  # Meteorological field\n",
    "hours = 1     # Number of hours to average over\n",
    "times = []\n",
    "averages = []\n",
    "\n",
    "# Calculate end date (5 days later)\n",
    "end_date = start_date + timedelta(days=5)\n",
    "\n",
    "# Current date starts at the start and proceeds in 3-hour intervals\n",
    "current_date = start_date\n",
    "\n",
    "while current_date < end_date:\n",
    "    formatted_date = current_date.strftime(\"%Y-%m-%d %H:%M\")\n",
    "    average_value = average_meteo(formatted_date, hours, field)\n",
    "    if average_value is not None:\n",
    "        times.append(current_date)\n",
    "        averages.append(average_value)\n",
    "    current_date += timedelta(hours=3)\n",
    "\n",
    "# Plotting the results\n",
    "plt.figure(figsize=(10, 5))\n",
    "plt.plot(times, averages, marker='o', linestyle='-', color='b')\n",
    "plt.title('Temperature Averages Over Time')\n",
    "plt.xlabel('Time')\n",
    "plt.ylabel('Average Temperature')\n",
    "plt.xticks(rotation=45)\n",
    "plt.tight_layout()\n",
    "plt.show()"
   ]
  },
  {
   "cell_type": "markdown",
   "id": "adbf3e6f",
   "metadata": {},
   "source": [
    "## Widget para Graficar por estación, fecha y contaminantes\n"
   ]
  },
  {
   "cell_type": "code",
   "execution_count": 3,
   "id": "f26e80b8",
   "metadata": {},
   "outputs": [
    {
     "name": "stdout",
     "output_type": "stream",
     "text": [
      "['UIZ', 'MER', 'CAM', 'NEZ', 'HGM', 'TLA', 'PED', 'AJM', 'SAG']\n"
     ]
    }
   ],
   "source": [
    "# %% Estaciones con datos de diferentes contaminantes\n",
    "all_stations = [\"UIZ\",\"AJU\" ,\"ATI\" ,\"CUA\" ,\"SFE\" ,\"SAG\" ,\"CUT\" ,\"PED\" ,\"TAH\" ,\"GAM\" ,\"IZT\" ,\"CCA\" ,\"HGM\" ,\"LPR\" ,\n",
    "                \"MGH\" ,\"CAM\" ,\"FAC\" ,\"TLA\" ,\"MER\" ,\"XAL\" ,\"LLA\" ,\"TLI\" ,\"UAX\" ,\"BJU\" ,\"MPA\" ,\n",
    "                \"MON\" ,\"NEZ\" ,\"INN\" ,\"AJM\" ,\"VIF\"]\n",
    "\n",
    "union_keys = ['GAM', 'BJU','MPA','AJU', 'SFE', 'CCA', 'LPR', 'MGH', 'XAL', 'LLA', 'UAX', 'MON', 'INN', 'VIF', 'ATI', 'CUA', 'CUT', 'TAH', 'IZT', 'FAC', 'TLI']\n",
    "\n",
    "ok_stations = list(set(all_stations) - set(union_keys))\n",
    "\n",
    "print(ok_stations)\n"
   ]
  },
  {
   "cell_type": "code",
   "execution_count": 18,
   "id": "f3fbf678",
   "metadata": {
    "scrolled": false
   },
   "outputs": [
    {
     "data": {
      "application/vnd.jupyter.widget-view+json": {
       "model_id": "3d3924f3fa064d119f28fd4aa71c3acc",
       "version_major": 2,
       "version_minor": 0
      },
      "text/plain": [
       "interactive(children=(Output(),), _dom_classes=('widget-interact',))"
      ]
     },
     "metadata": {},
     "output_type": "display_data"
    },
    {
     "data": {
      "application/vnd.jupyter.widget-view+json": {
       "model_id": "2db8287df3b84248a605e8e46286660d",
       "version_major": 2,
       "version_minor": 0
      },
      "text/plain": [
       "VBox(children=(DatePicker(value=Timestamp('2022-05-01 00:00:00'), description='Fecha de inicio', step=1), Date…"
      ]
     },
     "metadata": {},
     "output_type": "display_data"
    }
   ],
   "source": [
    "# Widget para Graficar por estación, fecha y contaminantes (checkbox)\n",
    "import pandas as pd\n",
    "import matplotlib.pyplot as plt\n",
    "from ipywidgets import interact, Checkbox, HBox, VBox, DatePicker, SelectMultiple\n",
    "from data_generator import pollutant_by_stations\n",
    "\n",
    "# Función para normalizar los datos\n",
    "def normalize_data(df):\n",
    "    return (df - df.min()) / (df.max() - df.min())\n",
    "\n",
    "    \n",
    "# Función para graficar\n",
    "def plot_data(start_date, end_date, stations, pollutants):\n",
    "    symbols = ['-', '--', '--*', '-.', ':', 'o']\n",
    "    colors = ['b', 'g', 'r', 'c', 'm', 'y', 'k']\n",
    "\n",
    "    data_frames = []\n",
    "    for i, pollutant in enumerate(pollutants):\n",
    "        try:\n",
    "            data = pollutant_by_stations(start_date.strftime('%Y-%m-%d %H:%M'), end_date.strftime('%Y-%m-%d %H:%M'), stations, pollutant)\n",
    "            data = pd.DataFrame(data)\n",
    "            if len(pollutants) > 1:\n",
    "                data = normalize_data(data)\n",
    "            data_frames.append((data, symbols[i % len(symbols)]))\n",
    "        except KeyError as e:\n",
    "            print(f\"Error: No se encontró el contaminante {pollutant}. Excepción: {e}\")\n",
    "            continue\n",
    "\n",
    "    plt.figure(figsize=(100, 15))\n",
    "    for j, station in enumerate(stations):\n",
    "        try:\n",
    "            for i, (data, symbol) in enumerate(data_frames):\n",
    "                plt.plot(data.index, data[station], symbol, label=f'{station} - {pollutants[i]}', color=colors[j % len(colors)])\n",
    "        except KeyError as e:\n",
    "            print(f\"Error: No se encontró la estación {station}. Excepción: {e}\")\n",
    "            continue\n",
    "    \n",
    "    plt.title('Contaminantes por estación')\n",
    "    plt.xlabel('Fecha')\n",
    "    plt.ylabel('Valor Normalizado' if len(pollutants) > 1 else 'Valor')\n",
    "    plt.legend()\n",
    "    plt.show()\n",
    "\n",
    "# Configuración de widgets\n",
    "start_date_picker = DatePicker(description='Fecha de inicio', value=pd.to_datetime(\"2022-05-01 00:00\"))\n",
    "end_date_picker = DatePicker(description='Fecha de fin', value=pd.to_datetime(\"2022-05-30 00:00\"))\n",
    "stations_select = SelectMultiple(description='Estaciones', options=ok_stations, value=ok_stations)\n",
    "pollutants_checkboxes = [\n",
    "    Checkbox(description='cont_otres', value=True),\n",
    "    Checkbox(description='cont_pmdoscinco', value=True),\n",
    "    Checkbox(description='cont_pmdiez', value=True),\n",
    "    Checkbox(description='cont_nox', value=True),\n",
    "    Checkbox(description='cont_nodos', value=False)\n",
    "\n",
    "]\n",
    "\n",
    "pollutants_dict = {\n",
    "    'cont_otres': 'cont_otres',\n",
    "    'cont_pmdoscinco': 'cont_pmdoscinco',\n",
    "    'cont_pmdiez': 'cont_pmdiez',\n",
    "    'cont_nox': 'cont_nox',\n",
    "    'cont_nodos': 'cont_nodos'\n",
    "}\n",
    "\n",
    "def update_plot(*args):\n",
    "    selected_pollutants = [pollutants_dict[p.description] for p in pollutants_checkboxes if p.value]\n",
    "    plot_data(start_date_picker.value, end_date_picker.value, stations_select.value, selected_pollutants)\n",
    "\n",
    "for widget in [start_date_picker, end_date_picker, stations_select] + pollutants_checkboxes:\n",
    "    widget.observe(update_plot, 'value')\n",
    "\n",
    "# Interfaz de usuario\n",
    "ui = VBox([start_date_picker, end_date_picker, stations_select] + pollutants_checkboxes)\n",
    "\n",
    "interact(update_plot)\n",
    "display(ui)\n"
   ]
  },
  {
   "cell_type": "markdown",
   "id": "698772ee",
   "metadata": {},
   "source": [
    "## Widget para Graficar por estación, contaminantes y variable meteorológica"
   ]
  },
  {
   "cell_type": "code",
   "execution_count": null,
   "id": "38b70f11",
   "metadata": {},
   "outputs": [],
   "source": [
    "\n",
    "import pandas as pd\n",
    "import matplotlib.pyplot as plt\n",
    "from ipywidgets import interact, VBox, DatePicker, SelectMultiple, IntSlider\n",
    "from data_generator import pollutant_by_stations, average_meteo\n",
    "from collections import defaultdict\n",
    "from datetime import datetime, timedelta\n",
    "from proj_io.inout import get_month_folder_esp\n",
    "from os.path import join\n",
    "from proj_preproc.wrf import crop_variables_xr, subsampleData\n",
    "import xarray as xr\n",
    "import numpy as np\n",
    "import os\n",
    "\n",
    "\n",
    "wrf_input_folder = \"/ServerData/WRF_2017_Kraken\"\n",
    "bbox = [18.75, 20, -99.75, -98.5]\n",
    "grid_size_wrf = 4  # 4 for 4x4\n",
    "\n",
    "\n",
    "# Función para normalizar los datos\n",
    "def normalize_data(df, mean=None, std=None):\n",
    "    if mean is None or std is None:\n",
    "        return (df - df.mean()) / df.std()\n",
    "    else:\n",
    "        return (df - mean) / std\n",
    "\n",
    "# Función para graficar contaminante vs variables meteorológicas\n",
    "def plot_data(start_date, end_date, stations, pollutants, meteorological_fields, hours, mean=None, std=None):\n",
    "    combined_df = pd.DataFrame()\n",
    "\n",
    "    for station in stations:\n",
    "        for pollutant in pollutants:\n",
    "            # Obtención de datos del contaminante\n",
    "            pollutant_data = pollutant_by_stations(start_date.strftime('%Y-%m-%d %H:%M'), end_date.strftime('%Y-%m-%d %H:%M'), [station], pollutant)\n",
    "            pollutant_df = pd.DataFrame(pollutant_data)\n",
    "\n",
    "            # Normalizar datos de contaminantes\n",
    "            normalized_pollutant_df = normalize_data(pollutant_df)\n",
    "            combined_df = pd.concat([combined_df, normalized_pollutant_df], axis=1)\n",
    "\n",
    "        for meteorological_field in meteorological_fields:\n",
    "            # Inicialización de lista para valores meteorológicos\n",
    "            meteo_values = []\n",
    "            meteo_dates = []\n",
    "\n",
    "            current_date = start_date\n",
    "            while current_date <= end_date:\n",
    "                formatted_date = current_date.strftime(\"%Y-%m-%d %H:%M\")\n",
    "                average_value = average_meteo(formatted_date, hours, meteorological_field)\n",
    "                meteo_values.append(average_value)\n",
    "                meteo_dates.append(current_date)\n",
    "                current_date += timedelta(hours=hours)\n",
    "\n",
    "            # Creación de DataFrame para datos meteorológicos\n",
    "            meteo_df = pd.DataFrame(meteo_values, index=meteo_dates, columns=[f'KEY_{meteorological_field}_{station}'])\n",
    "            normalized_meteo_df = normalize_data(meteo_df, mean, std)\n",
    "\n",
    "            # Combinar DataFrames\n",
    "            combined_df = pd.concat([combined_df, normalized_meteo_df], axis=1)\n",
    "\n",
    "    # Graficar los datos\n",
    "    plt.figure(figsize=(100, 15))\n",
    "    combined_df.plot(ax=plt.gca())\n",
    "    \n",
    "    plt.title(f'Relación entre {\", \".join(pollutants)} y {\", \".join(meteorological_fields)}')\n",
    "    plt.xlabel('Fecha')\n",
    "    plt.ylabel('Valor Normalizado')\n",
    "    plt.legend()\n",
    "    plt.show()\n",
    "\n",
    "# Configuración de widgets\n",
    "start_date_picker = DatePicker(description='Fecha de inicio', value=pd.to_datetime(\"2022-05-03 00:00\"))\n",
    "end_date_picker = DatePicker(description='Fecha de fin', value=pd.to_datetime(\"2022-05-6 00:00\"))\n",
    "station_select = SelectMultiple(description='Estaciones', options=['UAX', 'MER', 'XAL','PED'], value=['MER','PED'])\n",
    "pollutant_select = SelectMultiple(description='Contaminantes', options=['cont_otres', 'cont_pmdoscinco', 'cont_pmdiez', 'cont_nox'], value=['cont_otres','cont_nox'])\n",
    "meteorological_field_select = SelectMultiple(description='Campos Met.', options=['T2', 'U10', 'V10','RAINC'], value=['T2','RAINC'])\n",
    "hours_slider = IntSlider(description='Horas', min=1, max=24, value=1, continuous_update=False)\n",
    "\n",
    "def update_plot(*args):\n",
    "    plot_data(start_date_picker.value, end_date_picker.value, station_select.value, pollutant_select.value, meteorological_field_select.value, hours_slider.value)\n",
    "\n",
    "for widget in [start_date_picker, end_date_picker, station_select, pollutant_select, meteorological_field_select, hours_slider]:\n",
    "    widget.observe(update_plot, 'value')\n",
    "\n",
    "# Interfaz de usuario\n",
    "ui = VBox([start_date_picker, end_date_picker, station_select, pollutant_select, meteorological_field_select, hours_slider])\n",
    "\n",
    "interact(update_plot)\n",
    "display(ui)\n",
    "\n",
    "# %%\n"
   ]
  },
  {
   "cell_type": "code",
   "execution_count": null,
   "id": "2f115dce",
   "metadata": {},
   "outputs": [],
   "source": []
  }
 ],
 "metadata": {
  "kernelspec": {
   "display_name": "Python 3 (ipykernel)",
   "language": "python",
   "name": "python3"
  },
  "language_info": {
   "codemirror_mode": {
    "name": "ipython",
    "version": 3
   },
   "file_extension": ".py",
   "mimetype": "text/x-python",
   "name": "python",
   "nbconvert_exporter": "python",
   "pygments_lexer": "ipython3",
   "version": "3.10.10"
  }
 },
 "nbformat": 4,
 "nbformat_minor": 5
}
