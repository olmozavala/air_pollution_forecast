{
 "cells": [
  {
   "cell_type": "markdown",
   "id": "9b6df8d3",
   "metadata": {},
   "source": [
    "### Función para obtener niveles de contaminantes por estación: pollutant_by_stations"
   ]
  },
  {
   "cell_type": "code",
   "execution_count": 17,
   "id": "d548ead1",
   "metadata": {},
   "outputs": [
    {
     "name": "stdout",
     "output_type": "stream",
     "text": [
      "operativo\n",
      "                      XAL   MER   UAX\n",
      "2023-12-01 00:00:00  71.0  58.0  15.0\n",
      "2023-12-01 01:00:00  47.0  69.0  21.0\n",
      "2023-12-01 02:00:00  25.0  59.0  16.0\n",
      "2023-12-01 03:00:00  56.0  72.0  41.0\n",
      "2023-12-01 04:00:00  87.0  93.0  91.0\n",
      "...                   ...   ...   ...\n",
      "2023-12-13 20:00:00  53.0  97.0   NaN\n",
      "2023-12-13 21:00:00  88.0  81.0   NaN\n",
      "2023-12-13 22:00:00  85.0  64.0   NaN\n",
      "2023-12-13 23:00:00  67.0  64.0   NaN\n",
      "2023-12-14 00:00:00  57.0  64.0   NaN\n",
      "\n",
      "[313 rows x 3 columns]\n"
     ]
    },
    {
     "name": "stderr",
     "output_type": "stream",
     "text": [
      "/OZONO/HOME/pedro/git2/otro14/air_pollution_forecast/data_exploration/data_generator.py:62: FutureWarning: The default dtype for empty Series will be 'object' instead of 'float64' in a future version. Specify a dtype explicitly to silence this warning.\n",
      "  data_dict = defaultdict(lambda: pd.Series(index=pd.date_range(start=start_date, end=end_date, freq='H')))\n"
     ]
    }
   ],
   "source": [
    "from data_generator import pollutant_by_stations\n",
    "#Example of usage\n",
    "start_date = \"2023-12-01 00:00\"\n",
    "end_date = \"2023-12-14 00:00\"\n",
    "stations = ['UAX', 'MER', 'XAL']\n",
    "pollutant = 'cont_nox'\n",
    "\n",
    "data = pollutant_by_stations(start_date, end_date, stations, pollutant)\n",
    "print(data)\n"
   ]
  },
  {
   "cell_type": "markdown",
   "id": "760c9302",
   "metadata": {},
   "source": [
    "### Función para obtener niveles máximos diarios por estación: daily_max_pollutant_by_stations"
   ]
  },
  {
   "cell_type": "code",
   "execution_count": 19,
   "id": "6edb56db",
   "metadata": {},
   "outputs": [],
   "source": [
    "# %% Estaciones con datos de diferentes contaminantes\n",
    "all_stations = [\"UIZ\",\"AJU\" ,\"ATI\" ,\"CUA\" ,\"SFE\" ,\"SAG\" ,\"CUT\" ,\"PED\" ,\"TAH\" ,\"GAM\" ,\"IZT\" ,\"CCA\" ,\"HGM\" ,\"LPR\" ,\n",
    "                \"MGH\" ,\"CAM\" ,\"FAC\" ,\"TLA\" ,\"MER\" ,\"XAL\" ,\"LLA\" ,\"TLI\" ,\"UAX\" ,\"BJU\" ,\"MPA\" ,\n",
    "                \"MON\" ,\"NEZ\" ,\"INN\" ,\"AJM\" ,\"VIF\"]"
   ]
  },
  {
   "cell_type": "code",
   "execution_count": 20,
   "id": "46cdb132",
   "metadata": {},
   "outputs": [
    {
     "name": "stdout",
     "output_type": "stream",
     "text": [
      "operativo\n",
      "                  date station  value\n",
      "0  2024-05-15 13:00:00     UIZ  103.0\n",
      "1  2024-05-15 15:00:00     AJU   97.0\n",
      "2  2024-05-15 14:00:00     ATI  164.0\n",
      "3  2024-05-15 13:00:00     CUA  125.0\n",
      "4  2024-05-15 14:00:00     SAG  112.0\n",
      "5  2024-05-15 14:00:00     CUT  121.0\n",
      "6  2024-05-15 13:00:00     PED  122.0\n",
      "7  2024-05-15 17:00:00     TAH   60.0\n",
      "8  2024-05-15 14:00:00     GAM  144.0\n",
      "9  2024-05-15 13:00:00     IZT  123.0\n",
      "10 2024-05-15 12:00:00     CCA  117.0\n",
      "11 2024-05-15 13:00:00     HGM  130.0\n",
      "12 2024-05-15 14:00:00     LPR  112.0\n",
      "13 2024-05-15 13:00:00     MGH  136.0\n",
      "14 2024-05-15 02:00:00     CAM   23.0\n",
      "15 2024-05-15 14:00:00     FAC  134.0\n",
      "16 2024-05-15 14:00:00     TLA  178.0\n",
      "17 2024-05-15 13:00:00     MER  117.0\n",
      "18 2024-05-15 14:00:00     XAL   95.0\n",
      "19 2024-05-15 13:00:00     LLA  134.0\n",
      "20 2024-05-15 15:00:00     TLI  152.0\n",
      "21 2024-05-15 16:00:00     UAX   93.0\n",
      "22 2024-05-15 13:00:00     BJU  130.0\n",
      "23 2024-05-15 17:00:00     MPA   93.0\n",
      "24 2024-05-15 12:00:00     MON   85.0\n",
      "25 2024-05-15 13:00:00     NEZ   94.0\n",
      "26 2024-05-15 17:00:00     INN   49.0\n",
      "27 2024-05-15 12:00:00     AJM  103.0\n",
      "28 2024-05-15 14:00:00     VIF  153.0\n"
     ]
    },
    {
     "name": "stderr",
     "output_type": "stream",
     "text": [
      "/OZONO/HOME/pedro/git2/otro14/air_pollution_forecast/data_exploration/data_generator.py:62: FutureWarning: The default dtype for empty Series will be 'object' instead of 'float64' in a future version. Specify a dtype explicitly to silence this warning.\n",
      "  data_dict = defaultdict(lambda: pd.Series(index=pd.date_range(start=start_date, end=end_date, freq='H')))\n"
     ]
    }
   ],
   "source": [
    "from data_generator import daily_max_pollutant_by_stations\n",
    "#Example of usage\n",
    "\n",
    "start_date = \"2024-05-15 00:00\"\n",
    "end_date = \"2024-05-16 00:00\"\n",
    "stations = ['UAX', 'MER', 'XAL']\n",
    "pollutant = 'cont_otres'\n",
    "\n",
    "data = daily_max_pollutant_by_stations(start_date, end_date, all_stations, pollutant)\n",
    "print(data)\n"
   ]
  },
  {
   "cell_type": "code",
   "execution_count": null,
   "id": "3ec19ef4",
   "metadata": {},
   "outputs": [],
   "source": []
  },
  {
   "cell_type": "markdown",
   "id": "01683cb6",
   "metadata": {},
   "source": [
    "### Funcionalidad para obtener fechas,valores y estaciones que sobrepasan un umbral: dates_above_threshold"
   ]
  },
  {
   "cell_type": "code",
   "execution_count": 22,
   "id": "936bbc03",
   "metadata": {},
   "outputs": [
    {
     "name": "stdout",
     "output_type": "stream",
     "text": [
      "operativo\n",
      "                       AJM  XAL    VIF    UIZ    UAX    TLI    TLA  TAH  SAG  \\\n",
      "2024-05-09 11:00:00    NaN  NaN    NaN    NaN  134.0    NaN    NaN  NaN  NaN   \n",
      "2024-05-09 12:00:00    NaN  NaN    NaN    NaN  132.0    NaN    NaN  NaN  NaN   \n",
      "2024-05-09 13:00:00    NaN  NaN    NaN  140.0  147.0    NaN    NaN  NaN  NaN   \n",
      "2024-05-09 14:00:00  136.0  NaN    NaN  150.0  152.0    NaN    NaN  NaN  NaN   \n",
      "2024-05-09 15:00:00  157.0  NaN    NaN  141.0  153.0    NaN    NaN  NaN  NaN   \n",
      "2024-05-09 16:00:00  144.0  NaN    NaN  134.0  143.0    NaN    NaN  NaN  NaN   \n",
      "2024-05-09 17:00:00    NaN  NaN    NaN    NaN    NaN    NaN    NaN  NaN  NaN   \n",
      "2024-05-11 11:00:00    NaN  NaN    NaN    NaN  133.0    NaN    NaN  NaN  NaN   \n",
      "2024-05-11 13:00:00    NaN  NaN    NaN    NaN  131.0    NaN    NaN  NaN  NaN   \n",
      "2024-05-11 14:00:00    NaN  NaN    NaN  131.0  142.0    NaN  132.0  NaN  NaN   \n",
      "2024-05-11 15:00:00    NaN  NaN    NaN  130.0  136.0    NaN  142.0  NaN  NaN   \n",
      "2024-05-12 14:00:00    NaN  NaN    NaN  132.0    NaN    NaN    NaN  NaN  NaN   \n",
      "2024-05-12 15:00:00    NaN  NaN    NaN    NaN    NaN    NaN    NaN  NaN  NaN   \n",
      "2024-05-12 16:00:00    NaN  NaN    NaN    NaN    NaN    NaN  134.0  NaN  NaN   \n",
      "2024-05-13 12:00:00    NaN  NaN    NaN  132.0    NaN    NaN    NaN  NaN  NaN   \n",
      "2024-05-13 13:00:00    NaN  NaN    NaN  150.0  150.0    NaN    NaN  NaN  NaN   \n",
      "2024-05-13 14:00:00    NaN  NaN    NaN  156.0  153.0    NaN  151.0  NaN  NaN   \n",
      "2024-05-13 15:00:00    NaN  NaN    NaN  155.0  151.0  138.0  169.0  NaN  NaN   \n",
      "2024-05-13 16:00:00    NaN  NaN    NaN    NaN    NaN  143.0  142.0  NaN  NaN   \n",
      "2024-05-14 12:00:00  139.0  NaN    NaN    NaN  136.0    NaN  137.0  NaN  NaN   \n",
      "2024-05-14 13:00:00  157.0  NaN    NaN  145.0  155.0  135.0  169.0  NaN  NaN   \n",
      "2024-05-14 14:00:00  139.0  NaN  140.0  134.0  145.0  158.0  175.0  NaN  NaN   \n",
      "2024-05-14 15:00:00    NaN  NaN  152.0    NaN  131.0  173.0  180.0  NaN  NaN   \n",
      "2024-05-14 16:00:00    NaN  NaN  161.0    NaN    NaN  160.0  172.0  NaN  NaN   \n",
      "2024-05-14 17:00:00    NaN  NaN  159.0    NaN    NaN  162.0  152.0  NaN  NaN   \n",
      "2024-05-15 13:00:00    NaN  NaN  134.0    NaN    NaN  141.0  160.0  NaN  NaN   \n",
      "2024-05-15 14:00:00    NaN  NaN  153.0    NaN    NaN  149.0  178.0  NaN  NaN   \n",
      "2024-05-15 15:00:00    NaN  NaN  150.0    NaN    NaN  152.0  151.0  NaN  NaN   \n",
      "\n",
      "                       PED  ...    CUT    CUA  MON    CCA    CAM    BJU  \\\n",
      "2024-05-09 11:00:00    NaN  ...    NaN    NaN  NaN    NaN    NaN    NaN   \n",
      "2024-05-09 12:00:00    NaN  ...    NaN    NaN  NaN    NaN    NaN    NaN   \n",
      "2024-05-09 13:00:00  131.0  ...    NaN    NaN  NaN  141.0    NaN  151.0   \n",
      "2024-05-09 14:00:00  168.0  ...    NaN  145.0  NaN  165.0    NaN  160.0   \n",
      "2024-05-09 15:00:00  162.0  ...    NaN  147.0  NaN  156.0    NaN  145.0   \n",
      "2024-05-09 16:00:00  155.0  ...    NaN  139.0  NaN  149.0    NaN  138.0   \n",
      "2024-05-09 17:00:00  136.0  ...    NaN    NaN  NaN    NaN    NaN    NaN   \n",
      "2024-05-11 11:00:00    NaN  ...    NaN    NaN  NaN    NaN    NaN    NaN   \n",
      "2024-05-11 13:00:00    NaN  ...    NaN    NaN  NaN    NaN    NaN    NaN   \n",
      "2024-05-11 14:00:00    NaN  ...    NaN    NaN  NaN  134.0  140.0    NaN   \n",
      "2024-05-11 15:00:00  135.0  ...    NaN    NaN  NaN  139.0  140.0  142.0   \n",
      "2024-05-12 14:00:00    NaN  ...    NaN    NaN  NaN    NaN    NaN    NaN   \n",
      "2024-05-12 15:00:00    NaN  ...    NaN    NaN  NaN    NaN    NaN  136.0   \n",
      "2024-05-12 16:00:00    NaN  ...    NaN    NaN  NaN    NaN    NaN    NaN   \n",
      "2024-05-13 12:00:00    NaN  ...    NaN    NaN  NaN    NaN    NaN    NaN   \n",
      "2024-05-13 13:00:00  132.0  ...    NaN    NaN  NaN  135.0    NaN  136.0   \n",
      "2024-05-13 14:00:00  130.0  ...    NaN    NaN  NaN  130.0  151.0  137.0   \n",
      "2024-05-13 15:00:00    NaN  ...    NaN    NaN  NaN  138.0  150.0  135.0   \n",
      "2024-05-13 16:00:00  132.0  ...    NaN    NaN  NaN    NaN    NaN    NaN   \n",
      "2024-05-14 12:00:00  140.0  ...    NaN  135.0  NaN  140.0  132.0  133.0   \n",
      "2024-05-14 13:00:00  158.0  ...    NaN  152.0  NaN  153.0  142.0  142.0   \n",
      "2024-05-14 14:00:00  157.0  ...  163.0  138.0  NaN  162.0  153.0  150.0   \n",
      "2024-05-14 15:00:00  145.0  ...  179.0    NaN  NaN  156.0  155.0  155.0   \n",
      "2024-05-14 16:00:00    NaN  ...  181.0    NaN  NaN    NaN  147.0    NaN   \n",
      "2024-05-14 17:00:00    NaN  ...  149.0    NaN  NaN    NaN  136.0    NaN   \n",
      "2024-05-15 13:00:00    NaN  ...    NaN    NaN  NaN    NaN    NaN  130.0   \n",
      "2024-05-15 14:00:00    NaN  ...    NaN    NaN  NaN    NaN    NaN    NaN   \n",
      "2024-05-15 15:00:00    NaN  ...    NaN    NaN  NaN    NaN    NaN    NaN   \n",
      "\n",
      "                       ATI  AJU    MER    FAC  \n",
      "2024-05-09 11:00:00    NaN  NaN    NaN    NaN  \n",
      "2024-05-09 12:00:00    NaN  NaN  139.0    NaN  \n",
      "2024-05-09 13:00:00    NaN  NaN  137.0    NaN  \n",
      "2024-05-09 14:00:00    NaN  NaN    NaN    NaN  \n",
      "2024-05-09 15:00:00    NaN  NaN    NaN    NaN  \n",
      "2024-05-09 16:00:00    NaN  NaN    NaN    NaN  \n",
      "2024-05-09 17:00:00    NaN  NaN    NaN    NaN  \n",
      "2024-05-11 11:00:00    NaN  NaN    NaN    NaN  \n",
      "2024-05-11 13:00:00    NaN  NaN    NaN    NaN  \n",
      "2024-05-11 14:00:00    NaN  NaN    NaN    NaN  \n",
      "2024-05-11 15:00:00    NaN  NaN    NaN    NaN  \n",
      "2024-05-12 14:00:00    NaN  NaN    NaN    NaN  \n",
      "2024-05-12 15:00:00    NaN  NaN    NaN    NaN  \n",
      "2024-05-12 16:00:00    NaN  NaN    NaN    NaN  \n",
      "2024-05-13 12:00:00    NaN  NaN    NaN    NaN  \n",
      "2024-05-13 13:00:00    NaN  NaN  138.0    NaN  \n",
      "2024-05-13 14:00:00    NaN  NaN  132.0    NaN  \n",
      "2024-05-13 15:00:00    NaN  NaN    NaN    NaN  \n",
      "2024-05-13 16:00:00    NaN  NaN    NaN    NaN  \n",
      "2024-05-14 12:00:00    NaN  NaN    NaN    NaN  \n",
      "2024-05-14 13:00:00    NaN  NaN    NaN  143.0  \n",
      "2024-05-14 14:00:00    NaN  NaN  138.0  148.0  \n",
      "2024-05-14 15:00:00    NaN  NaN    NaN  142.0  \n",
      "2024-05-14 16:00:00    NaN  NaN    NaN    NaN  \n",
      "2024-05-14 17:00:00    NaN  NaN    NaN    NaN  \n",
      "2024-05-15 13:00:00  158.0  NaN    NaN  131.0  \n",
      "2024-05-15 14:00:00  164.0  NaN    NaN  134.0  \n",
      "2024-05-15 15:00:00  157.0  NaN    NaN    NaN  \n",
      "\n",
      "[28 rows x 29 columns]\n"
     ]
    },
    {
     "name": "stderr",
     "output_type": "stream",
     "text": [
      "/OZONO/HOME/pedro/git2/otro14/air_pollution_forecast/data_exploration/data_generator.py:62: FutureWarning: The default dtype for empty Series will be 'object' instead of 'float64' in a future version. Specify a dtype explicitly to silence this warning.\n",
      "  data_dict = defaultdict(lambda: pd.Series(index=pd.date_range(start=start_date, end=end_date, freq='H')))\n"
     ]
    }
   ],
   "source": [
    "from data_generator import pollutant_by_stations, dates_above_threshold\n",
    "\n",
    "#Example of usage\n",
    "start_date = \"2024-05-09 00:00\"\n",
    "end_date = \"2024-05-16 00:00\"\n",
    "stations = ['UAX', 'MER', 'XAL']\n",
    "pollutant = 'cont_otres'\n",
    "umbral_contaminante = 130.0\n",
    "df = pollutant_by_stations(start_date, end_date, all_stations, pollutant)\n",
    "df_above_th = dates_above_threshold(df, umbral_contaminante)\n",
    "print(df_above_th)"
   ]
  },
  {
   "cell_type": "markdown",
   "id": "3ad1a7ea",
   "metadata": {},
   "source": [
    "### Función nueva para para obtener valores promedio sobre el grid de variables del modelo WRF: average_meteo"
   ]
  },
  {
   "cell_type": "code",
   "execution_count": 2,
   "id": "7da6da78",
   "metadata": {},
   "outputs": [
    {
     "name": "stdout",
     "output_type": "stream",
     "text": [
      "ERROR: File /ServerData/WRF_2017_Kraken/2024/05_mayo/wrfout_d01_2024-05-24_00.nc does not exist\n",
      "2024-05-23 16:00:00    21.402626\n",
      "2024-05-23 17:00:00    22.691257\n",
      "2024-05-23 18:00:00    24.186167\n",
      "2024-05-23 19:00:00    25.598640\n",
      "2024-05-23 20:00:00    26.631418\n",
      "2024-05-23 21:00:00    27.256931\n",
      "2024-05-23 22:00:00    27.398165\n",
      "2024-05-23 23:00:00    27.216970\n",
      "2024-05-24 00:00:00    26.302626\n",
      "2024-05-24 01:00:00    24.056488\n",
      "Freq: H, dtype: float64\n"
     ]
    }
   ],
   "source": [
    "#Example of usage\n",
    "from data_generator import average_meteo\n",
    "\n",
    "start_date = \"2024-05-23 10:00\"\n",
    "hours = 10\n",
    "field = 'T2'  \n",
    "average_values = average_meteo(start_date, hours, field)\n",
    "print(average_values-273) # substracting 273  in this case for an approx. in deg C.\n"
   ]
  },
  {
   "cell_type": "code",
   "execution_count": 3,
   "id": "0488ae15",
   "metadata": {
    "scrolled": false
   },
   "outputs": [
    {
     "data": {
      "image/png": "[encoded data removed]",
      "text/plain": [
       "<Figure size 720x360 with 1 Axes>"
      ]
     },
     "metadata": {
      "needs_background": "light"
     },
     "output_type": "display_data"
    }
   ],
   "source": [
    "# %% Usando funcion average_meteo para plotear 5 días\n",
    "\n",
    "import matplotlib.pyplot as plt\n",
    "from datetime import datetime, timedelta\n",
    "\n",
    "\n",
    "start_date = datetime.strptime(\"2024-01-01 00:00\", \"%Y-%m-%d %H:%M\")\n",
    "field = 'T2'  # Meteorological field\n",
    "hours = 1     # Number of hours to average over\n",
    "times = []\n",
    "averages = []\n",
    "\n",
    "# Calculate end date (5 days later)\n",
    "end_date = start_date + timedelta(days=5)\n",
    "\n",
    "# Current date starts at the start and proceeds in 3-hour intervals\n",
    "current_date = start_date\n",
    "\n",
    "while current_date < end_date:\n",
    "    formatted_date = current_date.strftime(\"%Y-%m-%d %H:%M\")\n",
    "    average_value = average_meteo(formatted_date, hours, field)\n",
    "    if average_value is not None:\n",
    "        times.append(current_date)\n",
    "        averages.append(average_value)\n",
    "    current_date += timedelta(hours=3)\n",
    "\n",
    "# Plotting the results\n",
    "plt.figure(figsize=(10, 5))\n",
    "plt.plot(times, averages, marker='o', linestyle='-', color='b')\n",
    "plt.title('Temperature Averages')\n",
    "plt.xlabel('Time')\n",
    "plt.ylabel('Average Temperature')\n",
    "plt.xticks(rotation=45)\n",
    "plt.tight_layout()\n",
    "plt.show()"
   ]
  },
  {
   "cell_type": "markdown",
   "id": "adbf3e6f",
   "metadata": {},
   "source": [
    "## Widget para Graficar por estación, fecha y contaminantes\n"
   ]
  },
  {
   "cell_type": "code",
   "execution_count": 4,
   "id": "f26e80b8",
   "metadata": {},
   "outputs": [
    {
     "name": "stdout",
     "output_type": "stream",
     "text": [
      "['TLA', 'UIZ', 'NEZ', 'CAM', 'SAG', 'PED', 'MER']\n"
     ]
    }
   ],
   "source": [
    "# %% Estaciones con datos de diferentes contaminantes\n",
    "all_stations = [\"UIZ\",\"AJU\" ,\"ATI\" ,\"CUA\" ,\"SFE\" ,\"SAG\" ,\"CUT\" ,\"PED\" ,\"TAH\" ,\"GAM\" ,\"IZT\" ,\"CCA\" ,\"HGM\" ,\"LPR\" ,\n",
    "                \"MGH\" ,\"CAM\" ,\"FAC\" ,\"TLA\" ,\"MER\" ,\"XAL\" ,\"LLA\" ,\"TLI\" ,\"UAX\" ,\"BJU\" ,\"MPA\" ,\n",
    "                \"MON\" ,\"NEZ\" ,\"INN\" ,\"AJM\" ,\"VIF\"]\n",
    "\n",
    "union_keys = ['AJM', 'HGM','GAM', 'BJU','MPA','AJU', 'SFE', 'CCA', 'LPR', 'MGH', 'XAL', 'LLA', 'UAX', 'MON', 'INN', 'VIF', 'ATI', 'CUA', 'CUT', 'TAH', 'IZT', 'FAC', 'TLI']\n",
    "\n",
    "ok_stations = list(set(all_stations) - set(union_keys))\n",
    "\n",
    "print(ok_stations)\n",
    "# otres, pmdiez, pmdoscinco, nox"
   ]
  },
  {
   "cell_type": "code",
   "execution_count": 5,
   "id": "8dcad566",
   "metadata": {
    "scrolled": false
   },
   "outputs": [
    {
     "data": {
      "application/vnd.jupyter.widget-view+json": {
       "model_id": "7d0099a979ba4759909a37d273ca6f87",
       "version_major": 2,
       "version_minor": 0
      },
      "text/plain": [
       "VBox(children=(DatePicker(value=Timestamp('2022-05-14 00:00:00'), description='Start Date', step=1), DatePicke…"
      ]
     },
     "metadata": {},
     "output_type": "display_data"
    },
    {
     "name": "stderr",
     "output_type": "stream",
     "text": [
      "/OZONO/HOME/pedro/git2/otro14/air_pollution_forecast/data_exploration/data_generator.py:62: FutureWarning: The default dtype for empty Series will be 'object' instead of 'float64' in a future version. Specify a dtype explicitly to silence this warning.\n",
      "  data_dict = defaultdict(lambda: pd.Series(index=pd.date_range(start=start_date, end=end_date, freq='H')))\n"
     ]
    }
   ],
   "source": [
    "# Importar el módulo\n",
    "from img_generator import plot_by_station_date_and_pollutant\n",
    "\n",
    "# Definir las estaciones disponibles\n",
    "ok_stations = ['UAX', 'MER', 'XAL', 'PED']\n",
    "\n",
    "# Crear y mostrar el widget\n",
    "plot_by_station_date_and_pollutant(start_date=\"2022-05-14 00:00\", end_date=\"2022-05-16 00:00\", ok_stations=ok_stations)\n"
   ]
  },
  {
   "cell_type": "markdown",
   "id": "698772ee",
   "metadata": {},
   "source": [
    "## Widget para Graficar por estación, contaminantes y variable meteorológica"
   ]
  },
  {
   "cell_type": "code",
   "execution_count": 6,
   "id": "91507021",
   "metadata": {},
   "outputs": [],
   "source": [
    "import warnings\n",
    "warnings.simplefilter(action='ignore', category=FutureWarning)\n"
   ]
  },
  {
   "cell_type": "code",
   "execution_count": 1,
   "id": "eb9983a4",
   "metadata": {
    "scrolled": false
   },
   "outputs": [
    {
     "data": {
      "application/vnd.jupyter.widget-view+json": {
       "model_id": "afecfcf92a3540d1b0786fc0958c8553",
       "version_major": 2,
       "version_minor": 0
      },
      "text/plain": [
       "VBox(children=(DatePicker(value=Timestamp('2024-05-09 00:00:00'), description='Start Date', step=1), DatePicke…"
      ]
     },
     "metadata": {},
     "output_type": "display_data"
    },
    {
     "name": "stderr",
     "output_type": "stream",
     "text": [
      "/OZONO/HOME/pedro/git2/otro14/air_pollution_forecast/data_exploration/data_generator.py:62: FutureWarning: The default dtype for empty Series will be 'object' instead of 'float64' in a future version. Specify a dtype explicitly to silence this warning.\n",
      "  data_dict = defaultdict(lambda: pd.Series(index=pd.date_range(start=start_date, end=end_date, freq='H')))\n",
      "/OZONO/HOME/pedro/git2/otro14/air_pollution_forecast/data_exploration/data_generator.py:62: FutureWarning: The default dtype for empty Series will be 'object' instead of 'float64' in a future version. Specify a dtype explicitly to silence this warning.\n",
      "  data_dict = defaultdict(lambda: pd.Series(index=pd.date_range(start=start_date, end=end_date, freq='H')))\n",
      "/OZONO/HOME/pedro/git2/otro14/air_pollution_forecast/data_exploration/data_generator.py:62: FutureWarning: The default dtype for empty Series will be 'object' instead of 'float64' in a future version. Specify a dtype explicitly to silence this warning.\n",
      "  data_dict = defaultdict(lambda: pd.Series(index=pd.date_range(start=start_date, end=end_date, freq='H')))\n",
      "/OZONO/HOME/pedro/git2/otro14/air_pollution_forecast/data_exploration/data_generator.py:62: FutureWarning: The default dtype for empty Series will be 'object' instead of 'float64' in a future version. Specify a dtype explicitly to silence this warning.\n",
      "  data_dict = defaultdict(lambda: pd.Series(index=pd.date_range(start=start_date, end=end_date, freq='H')))\n",
      "/OZONO/HOME/pedro/git2/otro14/air_pollution_forecast/data_exploration/data_generator.py:62: FutureWarning: The default dtype for empty Series will be 'object' instead of 'float64' in a future version. Specify a dtype explicitly to silence this warning.\n",
      "  data_dict = defaultdict(lambda: pd.Series(index=pd.date_range(start=start_date, end=end_date, freq='H')))\n",
      "/OZONO/HOME/pedro/git2/otro14/air_pollution_forecast/data_exploration/data_generator.py:62: FutureWarning: The default dtype for empty Series will be 'object' instead of 'float64' in a future version. Specify a dtype explicitly to silence this warning.\n",
      "  data_dict = defaultdict(lambda: pd.Series(index=pd.date_range(start=start_date, end=end_date, freq='H')))\n",
      "/OZONO/HOME/pedro/git2/otro14/air_pollution_forecast/data_exploration/data_generator.py:62: FutureWarning: The default dtype for empty Series will be 'object' instead of 'float64' in a future version. Specify a dtype explicitly to silence this warning.\n",
      "  data_dict = defaultdict(lambda: pd.Series(index=pd.date_range(start=start_date, end=end_date, freq='H')))\n",
      "/OZONO/HOME/pedro/git2/otro14/air_pollution_forecast/data_exploration/data_generator.py:62: FutureWarning: The default dtype for empty Series will be 'object' instead of 'float64' in a future version. Specify a dtype explicitly to silence this warning.\n",
      "  data_dict = defaultdict(lambda: pd.Series(index=pd.date_range(start=start_date, end=end_date, freq='H')))\n"
     ]
    }
   ],
   "source": [
    "# Importar el módulo\n",
    "from img_generator import plot_by_station_date_and_meteo_pollutant\n",
    "\n",
    "# %% Estaciones con datos de diferentes contaminantes\n",
    "all_stations = [\"UIZ\",\"AJU\" ,\"ATI\" ,\"CUA\" ,\"SFE\" ,\"SAG\" ,\"CUT\" ,\"PED\" ,\"TAH\" ,\"GAM\" ,\"IZT\" ,\"CCA\" ,\"HGM\" ,\"LPR\" ,\n",
    "                \"MGH\" ,\"CAM\" ,\"FAC\" ,\"TLA\" ,\"MER\" ,\"XAL\" ,\"LLA\" ,\"TLI\" ,\"UAX\" ,\"BJU\" ,\"MPA\" ,\n",
    "                \"MON\" ,\"NEZ\" ,\"INN\" ,\"AJM\" ,\"VIF\"]\n",
    "# Definir las estaciones disponibles\n",
    "ok_stations = ['UAX', 'MER', 'XAL', 'PED']\n",
    "\n",
    "# Crear y mostrar el widget\n",
    "plot_by_station_date_and_meteo_pollutant(start_date=\"2024-05-09 00:00\", end_date=\"2024-05-19 00:00\", ok_stations=ok_stations)\n"
   ]
  },
  {
   "cell_type": "code",
   "execution_count": 2,
   "id": "8bdc9d0e",
   "metadata": {
    "scrolled": false
   },
   "outputs": [
    {
     "data": {
      "application/vnd.jupyter.widget-view+json": {
       "model_id": "6185c14f8cd04d40a326e41f576d4674",
       "version_major": 2,
       "version_minor": 0
      },
      "text/plain": [
       "VBox(children=(DatePicker(value=Timestamp('2024-05-09 00:00:00'), description='Start Date', step=1), DatePicke…"
      ]
     },
     "metadata": {},
     "output_type": "display_data"
    },
    {
     "name": "stderr",
     "output_type": "stream",
     "text": [
      "/OZONO/HOME/pedro/git2/otro14/air_pollution_forecast/data_exploration/data_generator.py:62: FutureWarning: The default dtype for empty Series will be 'object' instead of 'float64' in a future version. Specify a dtype explicitly to silence this warning.\n",
      "  data_dict = defaultdict(lambda: pd.Series(index=pd.date_range(start=start_date, end=end_date, freq='H')))\n",
      "/OZONO/HOME/pedro/git2/otro14/air_pollution_forecast/data_exploration/data_generator.py:62: FutureWarning: The default dtype for empty Series will be 'object' instead of 'float64' in a future version. Specify a dtype explicitly to silence this warning.\n",
      "  data_dict = defaultdict(lambda: pd.Series(index=pd.date_range(start=start_date, end=end_date, freq='H')))\n",
      "/OZONO/HOME/pedro/git2/otro14/air_pollution_forecast/data_exploration/data_generator.py:62: FutureWarning: The default dtype for empty Series will be 'object' instead of 'float64' in a future version. Specify a dtype explicitly to silence this warning.\n",
      "  data_dict = defaultdict(lambda: pd.Series(index=pd.date_range(start=start_date, end=end_date, freq='H')))\n",
      "/OZONO/HOME/pedro/git2/otro14/air_pollution_forecast/data_exploration/data_generator.py:62: FutureWarning: The default dtype for empty Series will be 'object' instead of 'float64' in a future version. Specify a dtype explicitly to silence this warning.\n",
      "  data_dict = defaultdict(lambda: pd.Series(index=pd.date_range(start=start_date, end=end_date, freq='H')))\n",
      "/OZONO/HOME/pedro/git2/otro14/air_pollution_forecast/data_exploration/data_generator.py:62: FutureWarning: The default dtype for empty Series will be 'object' instead of 'float64' in a future version. Specify a dtype explicitly to silence this warning.\n",
      "  data_dict = defaultdict(lambda: pd.Series(index=pd.date_range(start=start_date, end=end_date, freq='H')))\n",
      "/OZONO/HOME/pedro/git2/otro14/air_pollution_forecast/data_exploration/data_generator.py:62: FutureWarning: The default dtype for empty Series will be 'object' instead of 'float64' in a future version. Specify a dtype explicitly to silence this warning.\n",
      "  data_dict = defaultdict(lambda: pd.Series(index=pd.date_range(start=start_date, end=end_date, freq='H')))\n",
      "/OZONO/HOME/pedro/git2/otro14/air_pollution_forecast/data_exploration/data_generator.py:62: FutureWarning: The default dtype for empty Series will be 'object' instead of 'float64' in a future version. Specify a dtype explicitly to silence this warning.\n",
      "  data_dict = defaultdict(lambda: pd.Series(index=pd.date_range(start=start_date, end=end_date, freq='H')))\n",
      "/OZONO/HOME/pedro/git2/otro14/air_pollution_forecast/data_exploration/data_generator.py:62: FutureWarning: The default dtype for empty Series will be 'object' instead of 'float64' in a future version. Specify a dtype explicitly to silence this warning.\n",
      "  data_dict = defaultdict(lambda: pd.Series(index=pd.date_range(start=start_date, end=end_date, freq='H')))\n",
      "/OZONO/HOME/pedro/git2/otro14/air_pollution_forecast/data_exploration/data_generator.py:62: FutureWarning: The default dtype for empty Series will be 'object' instead of 'float64' in a future version. Specify a dtype explicitly to silence this warning.\n",
      "  data_dict = defaultdict(lambda: pd.Series(index=pd.date_range(start=start_date, end=end_date, freq='H')))\n",
      "/OZONO/HOME/pedro/git2/otro14/air_pollution_forecast/data_exploration/data_generator.py:62: FutureWarning: The default dtype for empty Series will be 'object' instead of 'float64' in a future version. Specify a dtype explicitly to silence this warning.\n",
      "  data_dict = defaultdict(lambda: pd.Series(index=pd.date_range(start=start_date, end=end_date, freq='H')))\n",
      "/OZONO/HOME/pedro/git2/otro14/air_pollution_forecast/data_exploration/data_generator.py:62: FutureWarning: The default dtype for empty Series will be 'object' instead of 'float64' in a future version. Specify a dtype explicitly to silence this warning.\n",
      "  data_dict = defaultdict(lambda: pd.Series(index=pd.date_range(start=start_date, end=end_date, freq='H')))\n",
      "/OZONO/HOME/pedro/git2/otro14/air_pollution_forecast/data_exploration/data_generator.py:62: FutureWarning: The default dtype for empty Series will be 'object' instead of 'float64' in a future version. Specify a dtype explicitly to silence this warning.\n",
      "  data_dict = defaultdict(lambda: pd.Series(index=pd.date_range(start=start_date, end=end_date, freq='H')))\n",
      "/OZONO/HOME/pedro/git2/otro14/air_pollution_forecast/data_exploration/data_generator.py:62: FutureWarning: The default dtype for empty Series will be 'object' instead of 'float64' in a future version. Specify a dtype explicitly to silence this warning.\n",
      "  data_dict = defaultdict(lambda: pd.Series(index=pd.date_range(start=start_date, end=end_date, freq='H')))\n",
      "/OZONO/HOME/pedro/git2/otro14/air_pollution_forecast/data_exploration/data_generator.py:62: FutureWarning: The default dtype for empty Series will be 'object' instead of 'float64' in a future version. Specify a dtype explicitly to silence this warning.\n",
      "  data_dict = defaultdict(lambda: pd.Series(index=pd.date_range(start=start_date, end=end_date, freq='H')))\n",
      "/OZONO/HOME/pedro/git2/otro14/air_pollution_forecast/data_exploration/data_generator.py:62: FutureWarning: The default dtype for empty Series will be 'object' instead of 'float64' in a future version. Specify a dtype explicitly to silence this warning.\n",
      "  data_dict = defaultdict(lambda: pd.Series(index=pd.date_range(start=start_date, end=end_date, freq='H')))\n",
      "/OZONO/HOME/pedro/git2/otro14/air_pollution_forecast/data_exploration/data_generator.py:62: FutureWarning: The default dtype for empty Series will be 'object' instead of 'float64' in a future version. Specify a dtype explicitly to silence this warning.\n",
      "  data_dict = defaultdict(lambda: pd.Series(index=pd.date_range(start=start_date, end=end_date, freq='H')))\n",
      "/OZONO/HOME/pedro/git2/otro14/air_pollution_forecast/data_exploration/data_generator.py:62: FutureWarning: The default dtype for empty Series will be 'object' instead of 'float64' in a future version. Specify a dtype explicitly to silence this warning.\n",
      "  data_dict = defaultdict(lambda: pd.Series(index=pd.date_range(start=start_date, end=end_date, freq='H')))\n",
      "/OZONO/HOME/pedro/git2/otro14/air_pollution_forecast/data_exploration/data_generator.py:62: FutureWarning: The default dtype for empty Series will be 'object' instead of 'float64' in a future version. Specify a dtype explicitly to silence this warning.\n",
      "  data_dict = defaultdict(lambda: pd.Series(index=pd.date_range(start=start_date, end=end_date, freq='H')))\n",
      "/OZONO/HOME/pedro/git2/otro14/air_pollution_forecast/data_exploration/data_generator.py:62: FutureWarning: The default dtype for empty Series will be 'object' instead of 'float64' in a future version. Specify a dtype explicitly to silence this warning.\n",
      "  data_dict = defaultdict(lambda: pd.Series(index=pd.date_range(start=start_date, end=end_date, freq='H')))\n",
      "/OZONO/HOME/pedro/git2/otro14/air_pollution_forecast/data_exploration/data_generator.py:62: FutureWarning: The default dtype for empty Series will be 'object' instead of 'float64' in a future version. Specify a dtype explicitly to silence this warning.\n",
      "  data_dict = defaultdict(lambda: pd.Series(index=pd.date_range(start=start_date, end=end_date, freq='H')))\n",
      "/OZONO/HOME/pedro/git2/otro14/air_pollution_forecast/data_exploration/data_generator.py:62: FutureWarning: The default dtype for empty Series will be 'object' instead of 'float64' in a future version. Specify a dtype explicitly to silence this warning.\n",
      "  data_dict = defaultdict(lambda: pd.Series(index=pd.date_range(start=start_date, end=end_date, freq='H')))\n"
     ]
    }
   ],
   "source": [
    "# Importar el módulo\n",
    "from img_generator import plot_by_station_date_and_meteo_pollutant_unnormalized\n",
    "\n",
    "# Definir las estaciones disponibles\n",
    "ok_stations = ['UAX', 'MER', 'XAL', 'PED']\n",
    "\n",
    "# Crear y mostrar el widget\n",
    "plot_by_station_date_and_meteo_pollutant_unnormalized(start_date=\"2024-05-09 00:00\", end_date=\"2024-05-19 00:00\", ok_stations=ok_stations, y_min=0, y_max=150)\n"
   ]
  }
 ],
 "metadata": {
  "kernelspec": {
   "display_name": "Python 3 (ipykernel)",
   "language": "python",
   "name": "python3"
  },
  "language_info": {
   "codemirror_mode": {
    "name": "ipython",
    "version": 3
   },
   "file_extension": ".py",
   "mimetype": "text/x-python",
   "name": "python",
   "nbconvert_exporter": "python",
   "pygments_lexer": "ipython3",
   "version": "3.10.10"
  }
 },
 "nbformat": 4,
 "nbformat_minor": 5
}
